{
 "cells": [
  {
   "attachments": {},
   "cell_type": "markdown",
   "metadata": {},
   "source": [
    "### 자료형의 참과 거짓\n",
    "- 문자열인 경우 \"\"안에 데이터가 없으면 거짓, 있으면 참\n",
    "- 리스트인 경우 []안에 데이터가 없으면 거짓, 있으면 참\n",
    "- 튜플인 경우 ()안에 데이터가 없으면 거짓, 있으면 참\n",
    "- 딕셔너리인 경우 {}안에 데이터가 없으면 거짓, 있으면 참\n",
    "- 숫자인 경우 0이면 거짓, 0이 아닌 숫자면 참"
   ]
  },
  {
   "cell_type": "code",
   "execution_count": 2,
   "metadata": {},
   "outputs": [
    {
     "name": "stdout",
     "output_type": "stream",
     "text": [
      "4\n",
      "3\n",
      "2\n",
      "1\n"
     ]
    },
    {
     "data": {
      "text/plain": [
       "[]"
      ]
     },
     "execution_count": 2,
     "metadata": {},
     "output_type": "execute_result"
    }
   ],
   "source": [
    "# 리스트형에서 자료 출력하면서 자료 지우기\n",
    "var =[1,2,3,4]\n",
    "\n",
    "while(var):\n",
    "    print(var.pop())\n",
    "\n",
    "var"
   ]
  },
  {
   "cell_type": "code",
   "execution_count": 4,
   "metadata": {},
   "outputs": [
    {
     "name": "stdout",
     "output_type": "stream",
     "text": [
      "1\n",
      "2\n",
      "False\n"
     ]
    }
   ],
   "source": [
    "#Tuple을 이용한 변수 생성\n",
    "var01, var02=1,2#Tuple은 값을 순차적으로 저장시켜준다.\n",
    "print(var01)\n",
    "print(var02)\n",
    "print(var01 is var02)# 값이 같은지 확인하는 것 is"
   ]
  },
  {
   "cell_type": "code",
   "execution_count": 7,
   "metadata": {},
   "outputs": [
    {
     "name": "stdout",
     "output_type": "stream",
     "text": [
      "1\n",
      "Lee\n"
     ]
    }
   ],
   "source": [
    "(var01,var02)=(1,'Lee')\n",
    "print(var01)\n",
    "print(var02)"
   ]
  },
  {
   "cell_type": "code",
   "execution_count": 9,
   "metadata": {},
   "outputs": [
    {
     "name": "stdout",
     "output_type": "stream",
     "text": [
      "Lee Lee\n"
     ]
    }
   ],
   "source": [
    "var01=var02='Lee'#한번에 데이터 값을 두개 줄 수 있다.\n",
    "print(var01,var02)"
   ]
  },
  {
   "cell_type": "code",
   "execution_count": 11,
   "metadata": {},
   "outputs": [
    {
     "name": "stdout",
     "output_type": "stream",
     "text": [
      "5\n",
      "3\n"
     ]
    }
   ],
   "source": [
    "#변수 값 교환\n",
    "var01=3\n",
    "var02=5\n",
    "var01,var02=var02,var01 #값을 교환하게 해준다.\n",
    "print(var01)\n",
    "print(var02)"
   ]
  },
  {
   "cell_type": "code",
   "execution_count": 14,
   "metadata": {},
   "outputs": [
    {
     "name": "stdout",
     "output_type": "stream",
     "text": [
      "[1, 4, 6]\n",
      "[1, 4, 6]\n",
      "True\n"
     ]
    }
   ],
   "source": [
    "# 리스트의 복사 (call by refernce라 pointer가 동일한 위치를 가리킨다.) static\n",
    "var01=[1,2,3]\n",
    "var02=var01\n",
    "var02[2]=6\n",
    "var01[1]=4\n",
    "print(var01)\n",
    "print(var02)#refernce 방식 배열 위치만 가져온다. 이건 데이터를 복사하여 바꿔주는 것이 아님\n",
    "print(var01 is var02)# 똑같다는 것을 알 수 있음\n"
   ]
  },
  {
   "cell_type": "code",
   "execution_count": 17,
   "metadata": {},
   "outputs": [
    {
     "name": "stdout",
     "output_type": "stream",
     "text": [
      "[1, 4, 3]\n",
      "[1, 2, 3]\n",
      "False\n"
     ]
    }
   ],
   "source": [
    "#Slicing을 이용한 리스트 복사\n",
    "var01=[1,2,3]\n",
    "var02=var01[:]# call by value 방식이다. 값만 가져온다.\n",
    "var01[1]=4\n",
    "print(var01)\n",
    "print(var02)\n",
    "print(var01 is var02)#다르다는 것을 알 수 있음"
   ]
  },
  {
   "cell_type": "code",
   "execution_count": 18,
   "metadata": {},
   "outputs": [
    {
     "name": "stdout",
     "output_type": "stream",
     "text": [
      "[1, 4, 3]\n",
      "[1, 2, 3]\n",
      "False\n"
     ]
    }
   ],
   "source": [
    "#Module을 이용한 리스트의 복사\n",
    "from copy import copy# 패키지를 이용한 값을 복사하는 것 패키지들의 집합은 fuction(함수)이다. \n",
    "var01=[1,2,3]\n",
    "var02=copy(var01)\n",
    "var01[1]=4\n",
    "print(var01)\n",
    "print(var02)\n",
    "print(var01 is var02)"
   ]
  },
  {
   "cell_type": "code",
   "execution_count": 20,
   "metadata": {},
   "outputs": [
    {
     "name": "stdout",
     "output_type": "stream",
     "text": [
      "True\n",
      "False\n"
     ]
    }
   ],
   "source": [
    "print(4 in var01)\n",
    "print(10 in var01)#True, False로 쓰이는 것이 보이면 if문으로 사용할 것을 생각"
   ]
  }
 ],
 "metadata": {
  "kernelspec": {
   "display_name": "Python 3",
   "language": "python",
   "name": "python3"
  },
  "language_info": {
   "codemirror_mode": {
    "name": "ipython",
    "version": 3
   },
   "file_extension": ".py",
   "mimetype": "text/x-python",
   "name": "python",
   "nbconvert_exporter": "python",
   "pygments_lexer": "ipython3",
   "version": "3.11.0 (main, Oct 24 2022, 18:26:48) [MSC v.1933 64 bit (AMD64)]"
  },
  "orig_nbformat": 4,
  "vscode": {
   "interpreter": {
    "hash": "c261aea317cc0286b3b3261fbba9abdec21eaa57589985bb7a274bf54d6cc0a7"
   }
  }
 },
 "nbformat": 4,
 "nbformat_minor": 2
}
