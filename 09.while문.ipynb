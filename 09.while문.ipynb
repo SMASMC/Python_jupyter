{
 "cells": [
  {
   "attachments": {},
   "cell_type": "markdown",
   "metadata": {},
   "source": [
    "## While문"
   ]
  },
  {
   "cell_type": "code",
   "execution_count": 1,
   "metadata": {},
   "outputs": [
    {
     "name": "stdout",
     "output_type": "stream",
     "text": [
      "나무를 1번 찍었습니다.\n",
      "나무를 2번 찍었습니다.\n",
      "나무를 3번 찍었습니다.\n",
      "나무를 4번 찍었습니다.\n",
      "나무를 5번 찍었습니다.\n",
      "나무를 6번 찍었습니다.\n",
      "나무를 7번 찍었습니다.\n",
      "나무를 8번 찍었습니다.\n",
      "나무를 9번 찍었습니다.\n",
      "나무를 10번 찍었습니다.\n",
      "나무 넘어 갑니다.\n"
     ]
    }
   ],
   "source": [
    "treeHit=0\n",
    "while treeHit<10:\n",
    "    treeHit+=1\n",
    "    print('나무를 %d번 찍었습니다.'%treeHit)\n",
    "    if treeHit==10:\n",
    "        print('나무 넘어 갑니다.')"
   ]
  },
  {
   "cell_type": "code",
   "execution_count": 3,
   "metadata": {},
   "outputs": [],
   "source": [
    "prompt='''\n",
    "1. 덧셈\n",
    "2. 뺄셈\n",
    "3. 곱셈\n",
    "4. 나눗셈\n",
    "5. 종료\n",
    "\n",
    "숫자를 입력하세요 : \n",
    "'''"
   ]
  },
  {
   "cell_type": "code",
   "execution_count": 6,
   "metadata": {},
   "outputs": [
    {
     "name": "stdout",
     "output_type": "stream",
     "text": [
      "\n",
      "1. 덧셈\n",
      "2. 뺄셈\n",
      "3. 곱셈\n",
      "4. 나눗셈\n",
      "5. 종료\n",
      "\n",
      "숫자를 입력하세요 : \n",
      "\n"
     ]
    }
   ],
   "source": [
    "number=0\n",
    "\n",
    "while number !=5:\n",
    "    print(prompt)\n",
    "    number=int(input())\n",
    "\n"
   ]
  },
  {
   "cell_type": "code",
   "execution_count": 23,
   "metadata": {},
   "outputs": [
    {
     "name": "stdout",
     "output_type": "stream",
     "text": [
      "돈을 넣어주세요 : \n",
      "거스름돈 3를 주고 커피를 줍니다.\n",
      "남은 커피의 양은 4 개 입니다.\n",
      "돈을 넣어주세요 : \n",
      "커피를 줍니다.남은 커피의 양은 3 개 입니다.\n",
      "돈을 넣어주세요 : \n",
      "커피를 줍니다.남은 커피의 양은 2 개 입니다.\n",
      "돈을 넣어주세요 : \n",
      "거스름돈 200를 주고 커피를 줍니다.\n",
      "남은 커피의 양은 1 개 입니다.\n",
      "돈을 넣어주세요 : \n",
      "돈을 다시 돌려주고 커피를 주지 않습니다. 남은 커피의 양은 1 개 입니다.\n",
      "돈을 넣어주세요 : \n",
      "커피를 줍니다.남은 커피의 양은 0 개 입니다.\n",
      "커피가 다 떨어졌습니다. 판매를 중지합니다.\n"
     ]
    }
   ],
   "source": [
    "#커피 자판기 커피를 5잔만 판매, 커피 값은 300원 300원을 입력하면 커피를 주고, 300원보다 큰돈을 입력하면 거스름돈을 주고 커피를 주고, 300원보다 작은 돈을 익력하면 돈은 돌려주고 커피는 안주고\n",
    "#5잔을 다 판매하면 판매를 중지합니다.\n",
    "\n",
    "# result=math.sqrt(num) if num%5==0 else num\n",
    "coffee=5\n",
    "while coffee!=0:\n",
    "    print('돈을 넣어주세요 : ')\n",
    "    money=int(input())\n",
    "    if money==300:\n",
    "        coffee=coffee-1\n",
    "        print('커피를 줍니다.남은 커피의 양은 %d 개 입니다.'%coffee)\n",
    "    elif money>300:\n",
    "        pay=money-300\n",
    "        coffee=coffee-1\n",
    "        print('거스름돈 %d를 주고 커피를 줍니다.'%pay)\n",
    "        print('남은 커피의 양은 %d 개 입니다.'%coffee)\n",
    "    elif money<300 :\n",
    "        print('돈을 다시 돌려주고 커피를 주지 않습니다. 남은 커피의 양은 %d 개 입니다.'%coffee)\n",
    "    if coffee==0:\n",
    "        print('커피가 다 떨어졌습니다. 판매를 중지합니다.')\n"
   ]
  }
 ],
 "metadata": {
  "kernelspec": {
   "display_name": "Python 3",
   "language": "python",
   "name": "python3"
  },
  "language_info": {
   "codemirror_mode": {
    "name": "ipython",
    "version": 3
   },
   "file_extension": ".py",
   "mimetype": "text/x-python",
   "name": "python",
   "nbconvert_exporter": "python",
   "pygments_lexer": "ipython3",
   "version": "3.11.0"
  },
  "orig_nbformat": 4,
  "vscode": {
   "interpreter": {
    "hash": "c261aea317cc0286b3b3261fbba9abdec21eaa57589985bb7a274bf54d6cc0a7"
   }
  }
 },
 "nbformat": 4,
 "nbformat_minor": 2
}
