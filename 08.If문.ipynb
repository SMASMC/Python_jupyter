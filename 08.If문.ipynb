{
 "cells": [
  {
   "cell_type": "code",
   "execution_count": 1,
   "metadata": {},
   "outputs": [],
   "source": [
    "from random import randint"
   ]
  },
  {
   "cell_type": "code",
   "execution_count": 2,
   "metadata": {},
   "outputs": [
    {
     "name": "stdout",
     "output_type": "stream",
     "text": [
      "---End---\n"
     ]
    }
   ],
   "source": [
    "x=randint(1,100)\n",
    "\n",
    "if x>50:\n",
    "    print('x is greater than 50')\n",
    "\n",
    "print('---End---')"
   ]
  },
  {
   "cell_type": "code",
   "execution_count": 11,
   "metadata": {},
   "outputs": [
    {
     "name": "stdout",
     "output_type": "stream",
     "text": [
      "x is greater than 50\n",
      "---End---\n"
     ]
    }
   ],
   "source": [
    "x=randint(1,100)\n",
    "\n",
    "if x>50:\n",
    "    print('x is greater than 50')\n",
    "elif x < 50:\n",
    "    print('x is less than 50')\n",
    "else:\n",
    "    print('x is equal to 50')    \n",
    "print('---End---')"
   ]
  },
  {
   "cell_type": "code",
   "execution_count": 7,
   "metadata": {},
   "outputs": [
    {
     "name": "stdout",
     "output_type": "stream",
     "text": [
      "홀수\n"
     ]
    }
   ],
   "source": [
    "#홀짝수 구분\n",
    "x=9\n",
    "if x%2!=0:\n",
    "    print('홀수')\n",
    "else: \n",
    "    print('짝수')"
   ]
  },
  {
   "cell_type": "code",
   "execution_count": 10,
   "metadata": {},
   "outputs": [
    {
     "data": {
      "text/plain": [
       "321"
      ]
     },
     "execution_count": 10,
     "metadata": {},
     "output_type": "execute_result"
    }
   ],
   "source": [
    "#사용자에게 입력을 받아서 하는 것\n",
    "input('숫자를 입력하세요: ')#위에 입력하는 란이 나옴"
   ]
  },
  {
   "cell_type": "code",
   "execution_count": null,
   "metadata": {},
   "outputs": [],
   "source": [
    "#int 형\n",
    "int(input('숫자를 입력하세요: '))# int 형으로 변환"
   ]
  },
  {
   "cell_type": "code",
   "execution_count": 5,
   "metadata": {},
   "outputs": [
    {
     "name": "stdout",
     "output_type": "stream",
     "text": [
      "D학점\n"
     ]
    },
    {
     "data": {
      "text/plain": [
       "'점수는 66이고 D학점 입니다.'"
      ]
     },
     "execution_count": 5,
     "metadata": {},
     "output_type": "execute_result"
    }
   ],
   "source": [
    "#사용자로 부터 점수를 입력받아 학점 계산하기\n",
    "\n",
    "z=int(input('숫자를 입력하세요: '))\n",
    "if z>=90:\n",
    "    grade='A학점'\n",
    "elif 80<=z<90:\n",
    "    grade='B학점'\n",
    "elif 70<=z<80:\n",
    "    grade='C학점'\n",
    "elif 60<=z<70:\n",
    "    grade='D학점'\n",
    "else :\n",
    "    grade='F학점'\n",
    "f'점수는 {z}이고 {grade} 입니다.'\n"
   ]
  },
  {
   "cell_type": "code",
   "execution_count": 51,
   "metadata": {},
   "outputs": [
    {
     "data": {
      "text/plain": [
       "'점수는 59이고 학점은 F 입니다.'"
      ]
     },
     "execution_count": 51,
     "metadata": {},
     "output_type": "execute_result"
    }
   ],
   "source": [
    "#사용자로 부터 점수를 입력받아 학점 계산하기 배열과 for문으로만 해보기\n",
    "z=int(input('점수를 입력하세요 : '))\n",
    "grade=['A','B','C','D']\n",
    "number=[90,80,70,60]\n",
    "\n",
    "for i in range(0,len(number)):\n",
    "    if z>=number[i]:\n",
    "        studentgrade=grade[i]\n",
    "        break\n",
    "    else :\n",
    "        studentgrade='F'\n",
    "f'점수는 {z}이고 학점은 {studentgrade} 입니다.'\n"
   ]
  },
  {
   "cell_type": "code",
   "execution_count": 13,
   "metadata": {},
   "outputs": [],
   "source": [
    "import math"
   ]
  },
  {
   "cell_type": "code",
   "execution_count": 15,
   "metadata": {},
   "outputs": [
    {
     "name": "stdout",
     "output_type": "stream",
     "text": [
      "2.23606797749979\n"
     ]
    }
   ],
   "source": [
    "#사용자로 부터 숫자를 입력받아 5의 배수이면 제곱근을 구하고 아니면 입력한 수를 출력하기\n",
    "\n",
    "\n",
    "i=int(input('숫자를 입력하세요: '))\n",
    "\n",
    "if i%5==0:\n",
    "    math.sqrt(i)\n",
    "    print(math.sqrt(i))\n",
    "else :\n",
    "    print(i)\n",
    "\n"
   ]
  },
  {
   "attachments": {},
   "cell_type": "markdown",
   "metadata": {},
   "source": [
    "# 삼항 연산자"
   ]
  },
  {
   "cell_type": "code",
   "execution_count": 17,
   "metadata": {},
   "outputs": [
    {
     "data": {
      "text/plain": [
       "18"
      ]
     },
     "execution_count": 17,
     "metadata": {},
     "output_type": "execute_result"
    }
   ],
   "source": [
    "num=9\n",
    "result=0\n",
    "\n",
    "result=num*2 if num>=5 else num+2\n",
    "result"
   ]
  },
  {
   "cell_type": "code",
   "execution_count": 20,
   "metadata": {},
   "outputs": [
    {
     "data": {
      "text/plain": [
       "4"
      ]
     },
     "execution_count": 20,
     "metadata": {},
     "output_type": "execute_result"
    }
   ],
   "source": [
    "#사용자로 부터 숫자를 입력받아 5의 배수이면 제곱근을 구하고 아니면 입력한 수를 출력하기\n",
    "\n",
    "num=int(input('숫자를 입력하세요 : '))\n",
    "\n",
    "result=0\n",
    "result=math.sqrt(num) if num%5==0 else num\n",
    "result"
   ]
  },
  {
   "cell_type": "code",
   "execution_count": 24,
   "metadata": {},
   "outputs": [
    {
     "name": "stdout",
     "output_type": "stream",
     "text": [
      "[5, 10, 15, 20]\n"
     ]
    }
   ],
   "source": [
    "var01=[1,2,3,4]\n",
    "var02=[i*5 for i in var01]\n",
    "\n",
    "print(var02)\n"
   ]
  },
  {
   "cell_type": "code",
   "execution_count": 27,
   "metadata": {},
   "outputs": [
    {
     "data": {
      "text/plain": [
       "[10, 20]"
      ]
     },
     "execution_count": 27,
     "metadata": {},
     "output_type": "execute_result"
    }
   ],
   "source": [
    "# var01중 짝수인 경우에만 5를 곱하여 리스트 만들기\n",
    "var03=[i*5 for i in var01 if i%2==0]\n",
    "var03"
   ]
  },
  {
   "cell_type": "code",
   "execution_count": 28,
   "metadata": {},
   "outputs": [
    {
     "name": "stdout",
     "output_type": "stream",
     "text": [
      "신용카드를 사용한 택시 타기\n",
      "---End---\n"
     ]
    }
   ],
   "source": [
    "pocket=['paper','smartphone']\n",
    "card=1\n",
    "\n",
    "if 'money' in pocket:\n",
    "    print(\"현금으로 택시 타기\")\n",
    "elif card:\n",
    "    print('신용카드를 사용한 택시 타기')\n",
    "else:\n",
    "    print('튼튼한 다리를 사용!')\n",
    "\n",
    "print('---End---')"
   ]
  },
  {
   "cell_type": "code",
   "execution_count": 31,
   "metadata": {},
   "outputs": [
    {
     "name": "stdout",
     "output_type": "stream",
     "text": [
      "택시를 타자!\n"
     ]
    }
   ],
   "source": [
    "money=2000\n",
    "card=True\n",
    "\n",
    "if money >=3000 or card:\n",
    "    print('택시를 타자!')\n",
    "else:\n",
    "    print('걸어가자!')"
   ]
  }
 ],
 "metadata": {
  "kernelspec": {
   "display_name": "Python 3",
   "language": "python",
   "name": "python3"
  },
  "language_info": {
   "codemirror_mode": {
    "name": "ipython",
    "version": 3
   },
   "file_extension": ".py",
   "mimetype": "text/x-python",
   "name": "python",
   "nbconvert_exporter": "python",
   "pygments_lexer": "ipython3",
   "version": "3.11.0"
  },
  "orig_nbformat": 4,
  "vscode": {
   "interpreter": {
    "hash": "c261aea317cc0286b3b3261fbba9abdec21eaa57589985bb7a274bf54d6cc0a7"
   }
  }
 },
 "nbformat": 4,
 "nbformat_minor": 2
}
